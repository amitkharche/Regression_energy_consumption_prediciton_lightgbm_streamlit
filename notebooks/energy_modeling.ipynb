
{
 "cells": [
  {
   "cell_type": "code",
   "execution_count": null,
   "metadata": {},
   "outputs": [],
   "source": [
    "import pandas as pd\n",
    "import matplotlib.pyplot as plt\n",
    "\n",
    "# Load the dataset\n",
    "data = pd.read_csv('../data/energy_data.csv')\n",
    "\n",
    "# Convert DateTime column to datetime format\n",
    "data['DateTime'] = pd.to_datetime(data['DateTime'])\n",
    "\n",
    "# Display the first few rows\n",
    "data.head()\n",
    "\n",
    "# Plot the distribution of EnergyConsumption\n",
    "plt.figure(figsize=(10, 6))\n",
    "plt.hist(data['EnergyConsumption'], bins=50, edgecolor='k')\n",
    "plt.xlabel('Energy Consumption')\n",
    "plt.ylabel('Frequency')\n",
    "plt.title('Distribution of Energy Consumption')\n",
    "plt.show()\n"
   ]
  }
 ],
 "metadata": {
  "kernelspec": {
   "display_name": "Python 3",
   "language": "python",
   "name": "python3"
  },
  "language_info": {
   "codemirror_mode": {
    "name": "ipython",
    "version": 3
   },
   "file_extension": ".py",
   "mimetype": "text/x-python",
   "name": "python",
   "nbconvert_exporter": "python",
   "pygments_lexer": "ipython3",
   "version": "3.8.5"
  }
 },
 "nbformat": 4,
 "nbformat_minor": 4
}
